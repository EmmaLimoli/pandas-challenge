{
 "cells": [
  {
   "cell_type": "markdown",
   "metadata": {},
   "source": [
    "Two Observable Trends in the data"
   ]
  },
  {
   "cell_type": "code",
   "execution_count": 45,
   "metadata": {},
   "outputs": [],
   "source": [
    "#import pandas\n",
    "import pandas as pd"
   ]
  },
  {
   "cell_type": "code",
   "execution_count": 46,
   "metadata": {},
   "outputs": [
    {
     "data": {
      "text/html": [
       "<div>\n",
       "<style scoped>\n",
       "    .dataframe tbody tr th:only-of-type {\n",
       "        vertical-align: middle;\n",
       "    }\n",
       "\n",
       "    .dataframe tbody tr th {\n",
       "        vertical-align: top;\n",
       "    }\n",
       "\n",
       "    .dataframe thead th {\n",
       "        text-align: right;\n",
       "    }\n",
       "</style>\n",
       "<table border=\"1\" class=\"dataframe\">\n",
       "  <thead>\n",
       "    <tr style=\"text-align: right;\">\n",
       "      <th></th>\n",
       "      <th>Purchase ID</th>\n",
       "      <th>SN</th>\n",
       "      <th>Age</th>\n",
       "      <th>Gender</th>\n",
       "      <th>Item ID</th>\n",
       "      <th>Item Name</th>\n",
       "      <th>Price</th>\n",
       "    </tr>\n",
       "  </thead>\n",
       "  <tbody>\n",
       "    <tr>\n",
       "      <th>0</th>\n",
       "      <td>0</td>\n",
       "      <td>Lisim78</td>\n",
       "      <td>20</td>\n",
       "      <td>Male</td>\n",
       "      <td>108</td>\n",
       "      <td>Extraction, Quickblade Of Trembling Hands</td>\n",
       "      <td>3.53</td>\n",
       "    </tr>\n",
       "    <tr>\n",
       "      <th>1</th>\n",
       "      <td>1</td>\n",
       "      <td>Lisovynya38</td>\n",
       "      <td>40</td>\n",
       "      <td>Male</td>\n",
       "      <td>143</td>\n",
       "      <td>Frenzied Scimitar</td>\n",
       "      <td>1.56</td>\n",
       "    </tr>\n",
       "    <tr>\n",
       "      <th>2</th>\n",
       "      <td>2</td>\n",
       "      <td>Ithergue48</td>\n",
       "      <td>24</td>\n",
       "      <td>Male</td>\n",
       "      <td>92</td>\n",
       "      <td>Final Critic</td>\n",
       "      <td>4.88</td>\n",
       "    </tr>\n",
       "    <tr>\n",
       "      <th>3</th>\n",
       "      <td>3</td>\n",
       "      <td>Chamassasya86</td>\n",
       "      <td>24</td>\n",
       "      <td>Male</td>\n",
       "      <td>100</td>\n",
       "      <td>Blindscythe</td>\n",
       "      <td>3.27</td>\n",
       "    </tr>\n",
       "    <tr>\n",
       "      <th>4</th>\n",
       "      <td>4</td>\n",
       "      <td>Iskosia90</td>\n",
       "      <td>23</td>\n",
       "      <td>Male</td>\n",
       "      <td>131</td>\n",
       "      <td>Fury</td>\n",
       "      <td>1.44</td>\n",
       "    </tr>\n",
       "  </tbody>\n",
       "</table>\n",
       "</div>"
      ],
      "text/plain": [
       "   Purchase ID             SN  Age Gender  Item ID  \\\n",
       "0            0        Lisim78   20   Male      108   \n",
       "1            1    Lisovynya38   40   Male      143   \n",
       "2            2     Ithergue48   24   Male       92   \n",
       "3            3  Chamassasya86   24   Male      100   \n",
       "4            4      Iskosia90   23   Male      131   \n",
       "\n",
       "                                   Item Name  Price  \n",
       "0  Extraction, Quickblade Of Trembling Hands   3.53  \n",
       "1                          Frenzied Scimitar   1.56  \n",
       "2                               Final Critic   4.88  \n",
       "3                                Blindscythe   3.27  \n",
       "4                                       Fury   1.44  "
      ]
     },
     "execution_count": 46,
     "metadata": {},
     "output_type": "execute_result"
    }
   ],
   "source": [
    "#load file \"purchase_data_copy.csv\"\n",
    "load_file = \"purchase_data_copy.csv\"\n",
    "\n",
    "#read csv file into panda data frame\n",
    "purchase_data_df = pd.read_csv(load_file)\n",
    "purchase_data_df.head()"
   ]
  },
  {
   "cell_type": "code",
   "execution_count": 47,
   "metadata": {},
   "outputs": [
    {
     "data": {
      "text/html": [
       "<div>\n",
       "<style scoped>\n",
       "    .dataframe tbody tr th:only-of-type {\n",
       "        vertical-align: middle;\n",
       "    }\n",
       "\n",
       "    .dataframe tbody tr th {\n",
       "        vertical-align: top;\n",
       "    }\n",
       "\n",
       "    .dataframe thead th {\n",
       "        text-align: right;\n",
       "    }\n",
       "</style>\n",
       "<table border=\"1\" class=\"dataframe\">\n",
       "  <thead>\n",
       "    <tr style=\"text-align: right;\">\n",
       "      <th></th>\n",
       "      <th>Purchase ID</th>\n",
       "      <th>Age</th>\n",
       "      <th>Item ID</th>\n",
       "      <th>Price</th>\n",
       "    </tr>\n",
       "  </thead>\n",
       "  <tbody>\n",
       "    <tr>\n",
       "      <th>count</th>\n",
       "      <td>780.000000</td>\n",
       "      <td>780.000000</td>\n",
       "      <td>780.000000</td>\n",
       "      <td>780.000000</td>\n",
       "    </tr>\n",
       "    <tr>\n",
       "      <th>mean</th>\n",
       "      <td>389.500000</td>\n",
       "      <td>22.714103</td>\n",
       "      <td>91.755128</td>\n",
       "      <td>3.050987</td>\n",
       "    </tr>\n",
       "    <tr>\n",
       "      <th>std</th>\n",
       "      <td>225.310896</td>\n",
       "      <td>6.659444</td>\n",
       "      <td>52.697702</td>\n",
       "      <td>1.169549</td>\n",
       "    </tr>\n",
       "    <tr>\n",
       "      <th>min</th>\n",
       "      <td>0.000000</td>\n",
       "      <td>7.000000</td>\n",
       "      <td>0.000000</td>\n",
       "      <td>1.000000</td>\n",
       "    </tr>\n",
       "    <tr>\n",
       "      <th>25%</th>\n",
       "      <td>194.750000</td>\n",
       "      <td>20.000000</td>\n",
       "      <td>47.750000</td>\n",
       "      <td>1.980000</td>\n",
       "    </tr>\n",
       "    <tr>\n",
       "      <th>50%</th>\n",
       "      <td>389.500000</td>\n",
       "      <td>22.000000</td>\n",
       "      <td>92.000000</td>\n",
       "      <td>3.150000</td>\n",
       "    </tr>\n",
       "    <tr>\n",
       "      <th>75%</th>\n",
       "      <td>584.250000</td>\n",
       "      <td>25.000000</td>\n",
       "      <td>138.000000</td>\n",
       "      <td>4.080000</td>\n",
       "    </tr>\n",
       "    <tr>\n",
       "      <th>max</th>\n",
       "      <td>779.000000</td>\n",
       "      <td>45.000000</td>\n",
       "      <td>183.000000</td>\n",
       "      <td>4.990000</td>\n",
       "    </tr>\n",
       "  </tbody>\n",
       "</table>\n",
       "</div>"
      ],
      "text/plain": [
       "       Purchase ID         Age     Item ID       Price\n",
       "count   780.000000  780.000000  780.000000  780.000000\n",
       "mean    389.500000   22.714103   91.755128    3.050987\n",
       "std     225.310896    6.659444   52.697702    1.169549\n",
       "min       0.000000    7.000000    0.000000    1.000000\n",
       "25%     194.750000   20.000000   47.750000    1.980000\n",
       "50%     389.500000   22.000000   92.000000    3.150000\n",
       "75%     584.250000   25.000000  138.000000    4.080000\n",
       "max     779.000000   45.000000  183.000000    4.990000"
      ]
     },
     "execution_count": 47,
     "metadata": {},
     "output_type": "execute_result"
    }
   ],
   "source": [
    "#breakdown of data with duplicates\n",
    "purchase_data_df.describe()"
   ]
  },
  {
   "cell_type": "code",
   "execution_count": 147,
   "metadata": {},
   "outputs": [
    {
     "data": {
      "text/html": [
       "<div>\n",
       "<style scoped>\n",
       "    .dataframe tbody tr th:only-of-type {\n",
       "        vertical-align: middle;\n",
       "    }\n",
       "\n",
       "    .dataframe tbody tr th {\n",
       "        vertical-align: top;\n",
       "    }\n",
       "\n",
       "    .dataframe thead th {\n",
       "        text-align: right;\n",
       "    }\n",
       "</style>\n",
       "<table border=\"1\" class=\"dataframe\">\n",
       "  <thead>\n",
       "    <tr style=\"text-align: right;\">\n",
       "      <th></th>\n",
       "      <th>Purchase ID</th>\n",
       "      <th>SN</th>\n",
       "      <th>Age</th>\n",
       "      <th>Gender</th>\n",
       "      <th>Item ID</th>\n",
       "      <th>Item Name</th>\n",
       "      <th>Price</th>\n",
       "    </tr>\n",
       "  </thead>\n",
       "  <tbody>\n",
       "    <tr>\n",
       "      <th>0</th>\n",
       "      <td>0</td>\n",
       "      <td>Lisim78</td>\n",
       "      <td>20</td>\n",
       "      <td>Male</td>\n",
       "      <td>108</td>\n",
       "      <td>Extraction, Quickblade Of Trembling Hands</td>\n",
       "      <td>3.53</td>\n",
       "    </tr>\n",
       "    <tr>\n",
       "      <th>1</th>\n",
       "      <td>1</td>\n",
       "      <td>Lisovynya38</td>\n",
       "      <td>40</td>\n",
       "      <td>Male</td>\n",
       "      <td>143</td>\n",
       "      <td>Frenzied Scimitar</td>\n",
       "      <td>1.56</td>\n",
       "    </tr>\n",
       "    <tr>\n",
       "      <th>2</th>\n",
       "      <td>2</td>\n",
       "      <td>Ithergue48</td>\n",
       "      <td>24</td>\n",
       "      <td>Male</td>\n",
       "      <td>92</td>\n",
       "      <td>Final Critic</td>\n",
       "      <td>4.88</td>\n",
       "    </tr>\n",
       "    <tr>\n",
       "      <th>3</th>\n",
       "      <td>3</td>\n",
       "      <td>Chamassasya86</td>\n",
       "      <td>24</td>\n",
       "      <td>Male</td>\n",
       "      <td>100</td>\n",
       "      <td>Blindscythe</td>\n",
       "      <td>3.27</td>\n",
       "    </tr>\n",
       "    <tr>\n",
       "      <th>4</th>\n",
       "      <td>4</td>\n",
       "      <td>Iskosia90</td>\n",
       "      <td>23</td>\n",
       "      <td>Male</td>\n",
       "      <td>131</td>\n",
       "      <td>Fury</td>\n",
       "      <td>1.44</td>\n",
       "    </tr>\n",
       "    <tr>\n",
       "      <th>...</th>\n",
       "      <td>...</td>\n",
       "      <td>...</td>\n",
       "      <td>...</td>\n",
       "      <td>...</td>\n",
       "      <td>...</td>\n",
       "      <td>...</td>\n",
       "      <td>...</td>\n",
       "    </tr>\n",
       "    <tr>\n",
       "      <th>775</th>\n",
       "      <td>775</td>\n",
       "      <td>Aethedru70</td>\n",
       "      <td>21</td>\n",
       "      <td>Female</td>\n",
       "      <td>60</td>\n",
       "      <td>Wolf</td>\n",
       "      <td>3.54</td>\n",
       "    </tr>\n",
       "    <tr>\n",
       "      <th>776</th>\n",
       "      <td>776</td>\n",
       "      <td>Iral74</td>\n",
       "      <td>21</td>\n",
       "      <td>Male</td>\n",
       "      <td>164</td>\n",
       "      <td>Exiled Doomblade</td>\n",
       "      <td>1.63</td>\n",
       "    </tr>\n",
       "    <tr>\n",
       "      <th>777</th>\n",
       "      <td>777</td>\n",
       "      <td>Yathecal72</td>\n",
       "      <td>20</td>\n",
       "      <td>Male</td>\n",
       "      <td>67</td>\n",
       "      <td>Celeste, Incarnation of the Corrupted</td>\n",
       "      <td>3.46</td>\n",
       "    </tr>\n",
       "    <tr>\n",
       "      <th>778</th>\n",
       "      <td>778</td>\n",
       "      <td>Sisur91</td>\n",
       "      <td>7</td>\n",
       "      <td>Male</td>\n",
       "      <td>92</td>\n",
       "      <td>Final Critic</td>\n",
       "      <td>4.19</td>\n",
       "    </tr>\n",
       "    <tr>\n",
       "      <th>779</th>\n",
       "      <td>779</td>\n",
       "      <td>Ennrian78</td>\n",
       "      <td>24</td>\n",
       "      <td>Male</td>\n",
       "      <td>50</td>\n",
       "      <td>Dawn</td>\n",
       "      <td>4.60</td>\n",
       "    </tr>\n",
       "  </tbody>\n",
       "</table>\n",
       "<p>780 rows × 7 columns</p>\n",
       "</div>"
      ],
      "text/plain": [
       "     Purchase ID             SN  Age  Gender  Item ID  \\\n",
       "0              0        Lisim78   20    Male      108   \n",
       "1              1    Lisovynya38   40    Male      143   \n",
       "2              2     Ithergue48   24    Male       92   \n",
       "3              3  Chamassasya86   24    Male      100   \n",
       "4              4      Iskosia90   23    Male      131   \n",
       "..           ...            ...  ...     ...      ...   \n",
       "775          775     Aethedru70   21  Female       60   \n",
       "776          776         Iral74   21    Male      164   \n",
       "777          777     Yathecal72   20    Male       67   \n",
       "778          778        Sisur91    7    Male       92   \n",
       "779          779      Ennrian78   24    Male       50   \n",
       "\n",
       "                                     Item Name  Price  \n",
       "0    Extraction, Quickblade Of Trembling Hands   3.53  \n",
       "1                            Frenzied Scimitar   1.56  \n",
       "2                                 Final Critic   4.88  \n",
       "3                                  Blindscythe   3.27  \n",
       "4                                         Fury   1.44  \n",
       "..                                         ...    ...  \n",
       "775                                       Wolf   3.54  \n",
       "776                           Exiled Doomblade   1.63  \n",
       "777      Celeste, Incarnation of the Corrupted   3.46  \n",
       "778                               Final Critic   4.19  \n",
       "779                                       Dawn   4.60  \n",
       "\n",
       "[780 rows x 7 columns]"
      ]
     },
     "execution_count": 147,
     "metadata": {},
     "output_type": "execute_result"
    }
   ],
   "source": [
    "#data without duplicates\n",
    "purchase_clean_df = purchase_data_df.drop_duplicates()\n",
    "purchase_clean_df\n"
   ]
  },
  {
   "cell_type": "code",
   "execution_count": 130,
   "metadata": {},
   "outputs": [
    {
     "name": "stdout",
     "output_type": "stream",
     "text": [
      "0            Lisim78\n",
      "1        Lisovynya38\n",
      "2         Ithergue48\n",
      "3      Chamassasya86\n",
      "4          Iskosia90\n",
      "           ...      \n",
      "773           Hala31\n",
      "774       Jiskjask80\n",
      "775       Aethedru70\n",
      "777       Yathecal72\n",
      "778          Sisur91\n",
      "Name: SN, Length: 576, dtype: object\n"
     ]
    }
   ],
   "source": [
    "#Find total number of players\n",
    "purchase_data_df[\"SN\"].drop_duplicates()\n",
    "print(purchase_data_df[\"SN\"].drop_duplicates())\n"
   ]
  },
  {
   "cell_type": "code",
   "execution_count": 88,
   "metadata": {},
   "outputs": [
    {
     "data": {
      "text/html": [
       "<div>\n",
       "<style scoped>\n",
       "    .dataframe tbody tr th:only-of-type {\n",
       "        vertical-align: middle;\n",
       "    }\n",
       "\n",
       "    .dataframe tbody tr th {\n",
       "        vertical-align: top;\n",
       "    }\n",
       "\n",
       "    .dataframe thead th {\n",
       "        text-align: right;\n",
       "    }\n",
       "</style>\n",
       "<table border=\"1\" class=\"dataframe\">\n",
       "  <thead>\n",
       "    <tr style=\"text-align: right;\">\n",
       "      <th></th>\n",
       "      <th>Total Players</th>\n",
       "    </tr>\n",
       "  </thead>\n",
       "  <tbody>\n",
       "    <tr>\n",
       "      <th>0</th>\n",
       "      <td>576</td>\n",
       "    </tr>\n",
       "  </tbody>\n",
       "</table>\n",
       "</div>"
      ],
      "text/plain": [
       "   Total Players\n",
       "0            576"
      ]
     },
     "execution_count": 88,
     "metadata": {},
     "output_type": "execute_result"
    }
   ],
   "source": [
    "#create summary of total number of players\n",
    "total_player_data = {\n",
    "    \"Total Players\": [576]\n",
    "}\n",
    "info_summary = pd.DataFrame(total_player_data, columns=[\"Total Players\"])\n",
    "info_summary"
   ]
  },
  {
   "cell_type": "code",
   "execution_count": 102,
   "metadata": {},
   "outputs": [
    {
     "data": {
      "text/plain": [
       "array(['Extraction, Quickblade Of Trembling Hands', 'Frenzied Scimitar',\n",
       "       'Final Critic', 'Blindscythe', 'Fury', 'Dreamkiss',\n",
       "       'Interrogator, Blood Blade of the Queen', 'Abyssal Shard',\n",
       "       'Souleater', 'Ghastly Adamantite Protector',\n",
       "       'Singed Onyx Warscythe', 'Renewed Skeletal Katana',\n",
       "       \"Bloodlord's Fetish\", 'Bone Crushing Silver Skewer',\n",
       "       'Deadline, Voice Of Subtlety', 'Second Chance', 'Devine',\n",
       "       'Nirvana', 'Blazefury, Protector of Delusions',\n",
       "       'Despair, Favor of Due Diligence',\n",
       "       'Sun Strike, Jaws of Twisted Visions', 'Warped Fetish',\n",
       "       'Severance', 'Persuasion',\n",
       "       'Oathbreaker, Last Hope of the Breaking Storm', 'Demise',\n",
       "       'Blood-Forged Skeletal Spine',\n",
       "       'Stormbringer, Dark Blade of Ending Misery',\n",
       "       'Shadow Strike, Glory of Ending Hope', 'Striker',\n",
       "       'Wolf, Promise of the Moonwalker', \"Faith's Scimitar\",\n",
       "       'Bonecarvin Battle Axe', 'Azurewrath', 'Vengeance Cleaver',\n",
       "       'Haunted Bronzed Bludgeon', 'Ritual Mace', 'Blade of the Grave',\n",
       "       'Thorn, Satchel of Dark Souls', \"Winter's Bite\",\n",
       "       'Thorn, Conqueror of the Corrupted', \"Reaper's Toll\", 'Avenger',\n",
       "       'Shadowsteel', 'Peacekeeper, Wit of Dark Magic', 'Suspension',\n",
       "       'Amnesia', 'Soul Infused Crystal', 'Wolf',\n",
       "       'Relentless Iron Skewer', 'Hero Cane', 'Arcane Gem', 'Dreamsong',\n",
       "       'Darkheart', 'Hailstorm Shadowsteel Scythe',\n",
       "       'Whistling Mithril Warblade', 'Foul Titanium Battle Axe',\n",
       "       'Retribution Axe', 'Rusty Skull',\n",
       "       'Riddle, Tribute of Ended Dreams', 'Chaos, Ender of the End',\n",
       "       'Storm-Weaver, Slayer of Inception', 'Venom Claymore',\n",
       "       'Emberling, Defender of Delusions', 'Netherbane', 'Dawn',\n",
       "       'Primitive Blade', 'Dawne', 'Curved Axe',\n",
       "       'Fate, Vengeance of Eternal Justice',\n",
       "       'Lazarus, Terror of the Earth', 'Lightning, Etcher of the King',\n",
       "       'Betrayal, Whisper of Grieving Widows', 'Exiled Doomblade',\n",
       "       'Undead Crusader', 'Downfall, Scalpel Of The Emperor',\n",
       "       'Sleepwalker', 'Eternal Cleaver',\n",
       "       'Expiration, Warscythe Of Lost Worlds', 'Malificent Bag',\n",
       "       'Mercy, Katana of Dismay', 'Orbit', 'Deathraze', 'Serenity',\n",
       "       'Heartstriker, Legacy of the Light', 'Glimmer, Ender of the Moon',\n",
       "       'Deluge, Edge of the West', 'Crucifer', 'Piece Maker',\n",
       "       'Brutality Ivory Warmace', \"Freak's Bite, Favor of Holy Might\",\n",
       "       'Yearning Crusher', 'Agatha', 'Fiery Glass Crusader', 'Splinter',\n",
       "       'Verdict', 'Warped Iron Scimitar',\n",
       "       'Darkheart, Butcher of the Champion', 'Purgatory, Gem of Regret',\n",
       "       'Woeful Adamantite Claymore', 'Hopeless Ebon Dualblade',\n",
       "       \"Warmonger, Gift of Suffering's End\", \"Misery's End\",\n",
       "       'Phantomlight', 'Conqueror Adamantite Mace', \"Dragon's Greatsword\",\n",
       "       'Stormcaller', 'Spada, Etcher of Hatred', \"Twilight's Carver\",\n",
       "       'Putrid Fan', 'Blood Infused Guardian', 'Singed Scalpel',\n",
       "       'Warped Diamond Crusader', 'Endbringer', 'Feral Katana', 'Orenmir',\n",
       "       'Piety, Guardian of Riddles', 'Brimstone', 'Stormfury Mace',\n",
       "       'Frenzy, Defender of the Harvest', \"Solitude's Reaver\",\n",
       "       'Mercenary Sabre', 'Yearning Mageblade',\n",
       "       'Tranquility, Razor of Black Magic',\n",
       "       'Oathbreaker, Spellblade of Trials',\n",
       "       'Aetherius, Boon of the Blessed', 'Righteous Might',\n",
       "       'Victor Iron Spikes', 'Swan Song, Gouger Of Terror',\n",
       "       'Thunderfury Scimitar', 'Splitter, Foe Of Subtlety',\n",
       "       'Restored Bauble', 'The Decapitator',\n",
       "       'Pursuit, Cudgel of Necromancy', 'Lifebender',\n",
       "       'Flux, Destroyer of Due Diligence', 'Mourning Blade', 'Toothpick',\n",
       "       \"Hope's End\", 'Torchlight, Bond of Storms', 'Thirsty Iron Reaver',\n",
       "       'Stormfury Longsword', 'Malice, Legacy of the Queen',\n",
       "       'War-Forged Gold Deflector', 'Blazeguard, Reach of Eternity',\n",
       "       'Soul-Forged Steel Shortsword',\n",
       "       'Hellreaver, Heirloom of Inception', 'Heartless Bone Dualblade',\n",
       "       'Scalpel', 'Hatred', 'Crying Steel Sickle',\n",
       "       'The Void, Vengeance of Dark Magic', 'Celeste',\n",
       "       'Ghost Reaver, Longsword of Magic',\n",
       "       'Celeste, Incarnation of the Corrupted', 'Glinting Glass Edge',\n",
       "       'The Oculus, Token of Lost Worlds', 'Massacre',\n",
       "       'Alpha, Oath of Zeal', 'Possessed Core', 'Foul Edge', 'Trickster',\n",
       "       'Fusion Pummel', 'Stormfury Lantern', 'Apocalyptic Battlescythe',\n",
       "       'Unholy Wand', 'Unending Tyranny', 'Ragnarok',\n",
       "       'Rage, Legacy of the Lone Victor', 'Worldbreaker',\n",
       "       'Exiled Mithril Longsword', 'Spectral Diamond Doomblade',\n",
       "       'Vindictive Glass Edge', 'Heartseeker, Reaver of Souls',\n",
       "       'Alpha, Reach of Ending Hope', 'Alpha', 'Betrayer',\n",
       "       'Winterthorn, Defender of Shifting Worlds', \"Gladiator's Glaive\"],\n",
       "      dtype=object)"
      ]
     },
     "execution_count": 102,
     "metadata": {},
     "output_type": "execute_result"
    }
   ],
   "source": [
    "#unique\n",
    "unique = purchase_data_df[\"Item Name\"].unique()\n",
    "unique\n",
    "\n"
   ]
  },
  {
   "cell_type": "code",
   "execution_count": 141,
   "metadata": {},
   "outputs": [
    {
     "data": {
      "text/plain": [
       "0      Extraction, Quickblade Of Trembling Hands\n",
       "1                              Frenzied Scimitar\n",
       "2                                   Final Critic\n",
       "3                                    Blindscythe\n",
       "4                                           Fury\n",
       "                         ...                    \n",
       "664                  Alpha, Reach of Ending Hope\n",
       "673                                        Alpha\n",
       "700                                     Betrayer\n",
       "717     Winterthorn, Defender of Shifting Worlds\n",
       "727                           Gladiator's Glaive\n",
       "Name: Item Name, Length: 179, dtype: object"
      ]
     },
     "execution_count": 141,
     "metadata": {},
     "output_type": "execute_result"
    }
   ],
   "source": [
    "#find unique items, used duplicate to ensure number is accurate\n",
    "duplicate = purchase_clean_df[\"Item Name\"].drop_duplicates()\n",
    "duplicate"
   ]
  },
  {
   "cell_type": "code",
   "execution_count": 132,
   "metadata": {},
   "outputs": [
    {
     "data": {
      "text/plain": [
       "3.050987179487176"
      ]
     },
     "execution_count": 132,
     "metadata": {},
     "output_type": "execute_result"
    }
   ],
   "source": [
    "#avg price\n",
    "average = purchase_data_df[\"Price\"].mean()\n",
    "average"
   ]
  },
  {
   "cell_type": "code",
   "execution_count": 57,
   "metadata": {},
   "outputs": [
    {
     "name": "stdout",
     "output_type": "stream",
     "text": [
      "780\n"
     ]
    }
   ],
   "source": [
    "#number of purchase \n",
    "purchase_data_df[\"Purchase ID\"].value_counts()\n",
    "print(purchase_data_df[\"Purchase ID\"].count())"
   ]
  },
  {
   "cell_type": "code",
   "execution_count": 58,
   "metadata": {},
   "outputs": [
    {
     "data": {
      "text/plain": [
       "2379.77"
      ]
     },
     "execution_count": 58,
     "metadata": {},
     "output_type": "execute_result"
    }
   ],
   "source": [
    "#total revenue\n",
    "total = purchase_data_df[\"Price\"].sum()\n",
    "total"
   ]
  },
  {
   "cell_type": "code",
   "execution_count": 106,
   "metadata": {},
   "outputs": [
    {
     "data": {
      "text/html": [
       "<div>\n",
       "<style scoped>\n",
       "    .dataframe tbody tr th:only-of-type {\n",
       "        vertical-align: middle;\n",
       "    }\n",
       "\n",
       "    .dataframe tbody tr th {\n",
       "        vertical-align: top;\n",
       "    }\n",
       "\n",
       "    .dataframe thead th {\n",
       "        text-align: right;\n",
       "    }\n",
       "</style>\n",
       "<table border=\"1\" class=\"dataframe\">\n",
       "  <thead>\n",
       "    <tr style=\"text-align: right;\">\n",
       "      <th></th>\n",
       "      <th>Total Players</th>\n",
       "      <th>Number Of Unique Items</th>\n",
       "      <th>Average Price</th>\n",
       "      <th>Number Of Purchase</th>\n",
       "      <th>Total Revenue</th>\n",
       "    </tr>\n",
       "  </thead>\n",
       "  <tbody>\n",
       "    <tr>\n",
       "      <th>0</th>\n",
       "      <td>576</td>\n",
       "      <td>179</td>\n",
       "      <td>305</td>\n",
       "      <td>708</td>\n",
       "      <td>2379.77</td>\n",
       "    </tr>\n",
       "  </tbody>\n",
       "</table>\n",
       "</div>"
      ],
      "text/plain": [
       "   Total Players  Number Of Unique Items  Average Price  Number Of Purchase  \\\n",
       "0            576                     179            305                 708   \n",
       "\n",
       "   Total Revenue  \n",
       "0        2379.77  "
      ]
     },
     "execution_count": 106,
     "metadata": {},
     "output_type": "execute_result"
    }
   ],
   "source": [
    "#summary of above\n",
    "summary_data = {\n",
    "    \"Total Players\": [576],\n",
    "    \"Number Of Unique Items\": [179],\n",
    "    \"Average Price\": [305],\n",
    "    \"Number Of Purchase\": [708],\n",
    "    \"Total Revenue\": [2379.77]\n",
    "}\n",
    "info_summary = pd.DataFrame(summary_data, columns=[\"Total Players\", \"Number Of Unique Items\", \"Average Price\", \"Number Of Purchase\", \"Total Revenue\"])\n",
    "info_summary\n"
   ]
  },
  {
   "cell_type": "code",
   "execution_count": null,
   "metadata": {},
   "outputs": [],
   "source": [
    "#percentage of count male/female/other"
   ]
  },
  {
   "cell_type": "code",
   "execution_count": 157,
   "metadata": {
    "scrolled": true
   },
   "outputs": [
    {
     "data": {
      "text/plain": [
       "Male                     652\n",
       "Female                   113\n",
       "Other / Non-Disclosed     15\n",
       "Name: Gender, dtype: int64"
      ]
     },
     "execution_count": 157,
     "metadata": {},
     "output_type": "execute_result"
    }
   ],
   "source": [
    "count = purchase_clean_df[\"Gender\"].value_counts()\n",
    "count"
   ]
  },
  {
   "cell_type": "code",
   "execution_count": 156,
   "metadata": {},
   "outputs": [
    {
     "data": {
      "text/html": [
       "<div>\n",
       "<style scoped>\n",
       "    .dataframe tbody tr th:only-of-type {\n",
       "        vertical-align: middle;\n",
       "    }\n",
       "\n",
       "    .dataframe tbody tr th {\n",
       "        vertical-align: top;\n",
       "    }\n",
       "\n",
       "    .dataframe thead th {\n",
       "        text-align: right;\n",
       "    }\n",
       "</style>\n",
       "<table border=\"1\" class=\"dataframe\">\n",
       "  <thead>\n",
       "    <tr style=\"text-align: right;\">\n",
       "      <th></th>\n",
       "      <th>Total Count</th>\n",
       "      <th>Percentage Of Players</th>\n",
       "    </tr>\n",
       "  </thead>\n",
       "  <tbody>\n",
       "    <tr>\n",
       "      <th>0</th>\n",
       "      <td>100</td>\n",
       "      <td>100</td>\n",
       "    </tr>\n",
       "    <tr>\n",
       "      <th>1</th>\n",
       "      <td>100</td>\n",
       "      <td>100</td>\n",
       "    </tr>\n",
       "    <tr>\n",
       "      <th>2</th>\n",
       "      <td>100</td>\n",
       "      <td>100</td>\n",
       "    </tr>\n",
       "  </tbody>\n",
       "</table>\n",
       "</div>"
      ],
      "text/plain": [
       "   Total Count  Percentage Of Players\n",
       "0          100                    100\n",
       "1          100                    100\n",
       "2          100                    100"
      ]
     },
     "execution_count": 156,
     "metadata": {},
     "output_type": "execute_result"
    }
   ],
   "source": [
    "gender_data = {\n",
    "    \"Total Count\": [100, 100, 100],\n",
    "    \"Percentage Of Players\": [100, 100, 100]\n",
    "}\n",
    "gender_summary = pd.DataFrame(gender_data, columns=[\"Total Count\", \"Percentage Of Players\"])\n",
    "gender_summary"
   ]
  },
  {
   "cell_type": "code",
   "execution_count": null,
   "metadata": {},
   "outputs": [],
   "source": []
  }
 ],
 "metadata": {
  "kernelspec": {
   "display_name": "Python 3",
   "language": "python",
   "name": "python3"
  },
  "language_info": {
   "codemirror_mode": {
    "name": "ipython",
    "version": 3
   },
   "file_extension": ".py",
   "mimetype": "text/x-python",
   "name": "python",
   "nbconvert_exporter": "python",
   "pygments_lexer": "ipython3",
   "version": "3.7.6"
  }
 },
 "nbformat": 4,
 "nbformat_minor": 4
}
